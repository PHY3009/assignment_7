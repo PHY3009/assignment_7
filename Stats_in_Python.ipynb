{
 "cells": [
  {
   "cell_type": "markdown",
   "metadata": {},
   "source": [
    "### Jhanelle Williams\n",
    "###Assignment 7"
   ]
  },
  {
   "cell_type": "code",
   "execution_count": 277,
   "metadata": {
    "collapsed": false
   },
   "outputs": [
    {
     "data": {
      "text/plain": [
       "'0.17.0'"
      ]
     },
     "execution_count": 277,
     "metadata": {},
     "output_type": "execute_result"
    }
   ],
   "source": [
    "#version of software used\n",
    "pd.__version__"
   ]
  },
  {
   "cell_type": "code",
   "execution_count": 278,
   "metadata": {
    "collapsed": false
   },
   "outputs": [
    {
     "data": {
      "text/plain": [
       "'1.10.1'"
      ]
     },
     "execution_count": 278,
     "metadata": {},
     "output_type": "execute_result"
    }
   ],
   "source": [
    "#version of software used\n",
    "np.__version__"
   ]
  },
  {
   "cell_type": "code",
   "execution_count": 279,
   "metadata": {
    "collapsed": false
   },
   "outputs": [],
   "source": [
    "# import libraries\n",
    "\n",
    "import pandas as pd\n",
    "import matplotlib.pyplot as plt\n",
    "import numpy as np\n",
    "\n",
    "#stats library\n",
    "\n",
    "import statsmodels.api as sm\n",
    "import scipy\n",
    "\n",
    "#T-test is imported to complete the statistical analysis\n",
    "\n",
    "from scipy.stats import ttest_ind\n",
    "\n",
    "from scipy import stats\n",
    "\n",
    "#The function below is used to show the plots within the notebook\n",
    "\n",
    "%matplotlib inline"
   ]
  },
  {
   "cell_type": "code",
   "execution_count": 160,
   "metadata": {
    "collapsed": false
   },
   "outputs": [],
   "source": [
    "# Load data \n",
    "\n",
    "decays_data=pd.read_csv('/Users/Jhanelle/Desktop/behav_new2.dat', delimiter=' ')"
   ]
  },
  {
   "cell_type": "code",
   "execution_count": 91,
   "metadata": {
    "collapsed": false
   },
   "outputs": [
    {
     "data": {
      "text/html": [
       "<div>\n",
       "<table border=\"1\" class=\"dataframe\">\n",
       "  <thead>\n",
       "    <tr style=\"text-align: right;\">\n",
       "      <th></th>\n",
       "      <th>date</th>\n",
       "      <th>plate</th>\n",
       "      <th>time</th>\n",
       "      <th>strain</th>\n",
       "      <th>frame</th>\n",
       "      <th>ID</th>\n",
       "      <th>persistance</th>\n",
       "      <th>area</th>\n",
       "      <th>speed</th>\n",
       "      <th>angularspeed</th>\n",
       "      <th>...</th>\n",
       "      <th>bias</th>\n",
       "      <th>pathlen</th>\n",
       "      <th>curve</th>\n",
       "      <th>dir</th>\n",
       "      <th>loc_x</th>\n",
       "      <th>loc_y</th>\n",
       "      <th>vel_x</th>\n",
       "      <th>vel_y</th>\n",
       "      <th>orient</th>\n",
       "      <th>crab</th>\n",
       "    </tr>\n",
       "  </thead>\n",
       "  <tbody>\n",
       "    <tr>\n",
       "      <th>0</th>\n",
       "      <td>20141118</td>\n",
       "      <td>20141118_131037</td>\n",
       "      <td>15.028</td>\n",
       "      <td>wild-type</td>\n",
       "      <td>0</td>\n",
       "      <td>1</td>\n",
       "      <td>234.9</td>\n",
       "      <td>0.096228</td>\n",
       "      <td>NaN</td>\n",
       "      <td>NaN</td>\n",
       "      <td>...</td>\n",
       "      <td>1</td>\n",
       "      <td>0.000</td>\n",
       "      <td>38.2</td>\n",
       "      <td>0</td>\n",
       "      <td>29.0036</td>\n",
       "      <td>29.4805</td>\n",
       "      <td>NaN</td>\n",
       "      <td>NaN</td>\n",
       "      <td>103.3</td>\n",
       "      <td>NaN</td>\n",
       "    </tr>\n",
       "    <tr>\n",
       "      <th>1</th>\n",
       "      <td>20141118</td>\n",
       "      <td>20141118_131037</td>\n",
       "      <td>15.069</td>\n",
       "      <td>wild-type</td>\n",
       "      <td>1</td>\n",
       "      <td>1</td>\n",
       "      <td>234.9</td>\n",
       "      <td>0.096957</td>\n",
       "      <td>NaN</td>\n",
       "      <td>NaN</td>\n",
       "      <td>...</td>\n",
       "      <td>1</td>\n",
       "      <td>0.010</td>\n",
       "      <td>32.7</td>\n",
       "      <td>0</td>\n",
       "      <td>29.0076</td>\n",
       "      <td>29.4713</td>\n",
       "      <td>NaN</td>\n",
       "      <td>NaN</td>\n",
       "      <td>103.1</td>\n",
       "      <td>NaN</td>\n",
       "    </tr>\n",
       "    <tr>\n",
       "      <th>2</th>\n",
       "      <td>20141118</td>\n",
       "      <td>20141118_131037</td>\n",
       "      <td>15.109</td>\n",
       "      <td>wild-type</td>\n",
       "      <td>2</td>\n",
       "      <td>1</td>\n",
       "      <td>234.9</td>\n",
       "      <td>0.096957</td>\n",
       "      <td>NaN</td>\n",
       "      <td>NaN</td>\n",
       "      <td>...</td>\n",
       "      <td>1</td>\n",
       "      <td>0.019</td>\n",
       "      <td>34.0</td>\n",
       "      <td>0</td>\n",
       "      <td>29.0113</td>\n",
       "      <td>29.4630</td>\n",
       "      <td>NaN</td>\n",
       "      <td>NaN</td>\n",
       "      <td>102.8</td>\n",
       "      <td>NaN</td>\n",
       "    </tr>\n",
       "    <tr>\n",
       "      <th>3</th>\n",
       "      <td>20141118</td>\n",
       "      <td>20141118_131037</td>\n",
       "      <td>15.148</td>\n",
       "      <td>wild-type</td>\n",
       "      <td>3</td>\n",
       "      <td>1</td>\n",
       "      <td>234.9</td>\n",
       "      <td>0.095499</td>\n",
       "      <td>NaN</td>\n",
       "      <td>NaN</td>\n",
       "      <td>...</td>\n",
       "      <td>1</td>\n",
       "      <td>0.027</td>\n",
       "      <td>33.5</td>\n",
       "      <td>0</td>\n",
       "      <td>29.0138</td>\n",
       "      <td>29.4550</td>\n",
       "      <td>NaN</td>\n",
       "      <td>NaN</td>\n",
       "      <td>102.2</td>\n",
       "      <td>NaN</td>\n",
       "    </tr>\n",
       "    <tr>\n",
       "      <th>4</th>\n",
       "      <td>20141118</td>\n",
       "      <td>20141118_131037</td>\n",
       "      <td>15.186</td>\n",
       "      <td>wild-type</td>\n",
       "      <td>4</td>\n",
       "      <td>1</td>\n",
       "      <td>234.9</td>\n",
       "      <td>0.095499</td>\n",
       "      <td>NaN</td>\n",
       "      <td>NaN</td>\n",
       "      <td>...</td>\n",
       "      <td>1</td>\n",
       "      <td>0.036</td>\n",
       "      <td>34.2</td>\n",
       "      <td>0</td>\n",
       "      <td>29.0172</td>\n",
       "      <td>29.4475</td>\n",
       "      <td>NaN</td>\n",
       "      <td>NaN</td>\n",
       "      <td>102.1</td>\n",
       "      <td>NaN</td>\n",
       "    </tr>\n",
       "    <tr>\n",
       "      <th>5</th>\n",
       "      <td>20141118</td>\n",
       "      <td>20141118_131037</td>\n",
       "      <td>15.229</td>\n",
       "      <td>wild-type</td>\n",
       "      <td>5</td>\n",
       "      <td>1</td>\n",
       "      <td>234.9</td>\n",
       "      <td>0.096228</td>\n",
       "      <td>NaN</td>\n",
       "      <td>NaN</td>\n",
       "      <td>...</td>\n",
       "      <td>1</td>\n",
       "      <td>0.044</td>\n",
       "      <td>34.4</td>\n",
       "      <td>0</td>\n",
       "      <td>29.0197</td>\n",
       "      <td>29.4397</td>\n",
       "      <td>NaN</td>\n",
       "      <td>NaN</td>\n",
       "      <td>102.3</td>\n",
       "      <td>NaN</td>\n",
       "    </tr>\n",
       "    <tr>\n",
       "      <th>6</th>\n",
       "      <td>20141118</td>\n",
       "      <td>20141118_131037</td>\n",
       "      <td>15.270</td>\n",
       "      <td>wild-type</td>\n",
       "      <td>6</td>\n",
       "      <td>1</td>\n",
       "      <td>234.9</td>\n",
       "      <td>0.100602</td>\n",
       "      <td>NaN</td>\n",
       "      <td>NaN</td>\n",
       "      <td>...</td>\n",
       "      <td>1</td>\n",
       "      <td>0.054</td>\n",
       "      <td>35.0</td>\n",
       "      <td>0</td>\n",
       "      <td>29.0225</td>\n",
       "      <td>29.4302</td>\n",
       "      <td>NaN</td>\n",
       "      <td>NaN</td>\n",
       "      <td>102.4</td>\n",
       "      <td>NaN</td>\n",
       "    </tr>\n",
       "    <tr>\n",
       "      <th>7</th>\n",
       "      <td>20141118</td>\n",
       "      <td>20141118_131037</td>\n",
       "      <td>15.310</td>\n",
       "      <td>wild-type</td>\n",
       "      <td>7</td>\n",
       "      <td>1</td>\n",
       "      <td>234.9</td>\n",
       "      <td>0.100602</td>\n",
       "      <td>0.1914</td>\n",
       "      <td>1.3</td>\n",
       "      <td>...</td>\n",
       "      <td>1</td>\n",
       "      <td>0.061</td>\n",
       "      <td>33.8</td>\n",
       "      <td>0</td>\n",
       "      <td>29.0251</td>\n",
       "      <td>29.4233</td>\n",
       "      <td>0.0640</td>\n",
       "      <td>-0.1804</td>\n",
       "      <td>102.3</td>\n",
       "      <td>0.0240</td>\n",
       "    </tr>\n",
       "    <tr>\n",
       "      <th>8</th>\n",
       "      <td>20141118</td>\n",
       "      <td>20141118_131037</td>\n",
       "      <td>15.350</td>\n",
       "      <td>wild-type</td>\n",
       "      <td>8</td>\n",
       "      <td>1</td>\n",
       "      <td>234.9</td>\n",
       "      <td>0.099873</td>\n",
       "      <td>0.1844</td>\n",
       "      <td>0.9</td>\n",
       "      <td>...</td>\n",
       "      <td>1</td>\n",
       "      <td>0.069</td>\n",
       "      <td>33.7</td>\n",
       "      <td>0</td>\n",
       "      <td>29.0278</td>\n",
       "      <td>29.4162</td>\n",
       "      <td>0.0593</td>\n",
       "      <td>-0.1746</td>\n",
       "      <td>102.4</td>\n",
       "      <td>0.0205</td>\n",
       "    </tr>\n",
       "    <tr>\n",
       "      <th>9</th>\n",
       "      <td>20141118</td>\n",
       "      <td>20141118_131037</td>\n",
       "      <td>15.387</td>\n",
       "      <td>wild-type</td>\n",
       "      <td>9</td>\n",
       "      <td>1</td>\n",
       "      <td>234.9</td>\n",
       "      <td>0.099144</td>\n",
       "      <td>0.1807</td>\n",
       "      <td>1.1</td>\n",
       "      <td>...</td>\n",
       "      <td>1</td>\n",
       "      <td>0.077</td>\n",
       "      <td>33.7</td>\n",
       "      <td>0</td>\n",
       "      <td>29.0309</td>\n",
       "      <td>29.4083</td>\n",
       "      <td>0.0579</td>\n",
       "      <td>-0.1712</td>\n",
       "      <td>102.3</td>\n",
       "      <td>0.0201</td>\n",
       "    </tr>\n",
       "    <tr>\n",
       "      <th>10</th>\n",
       "      <td>20141118</td>\n",
       "      <td>20141118_131037</td>\n",
       "      <td>15.432</td>\n",
       "      <td>wild-type</td>\n",
       "      <td>10</td>\n",
       "      <td>1</td>\n",
       "      <td>234.9</td>\n",
       "      <td>0.096957</td>\n",
       "      <td>0.1746</td>\n",
       "      <td>1.5</td>\n",
       "      <td>...</td>\n",
       "      <td>1</td>\n",
       "      <td>0.084</td>\n",
       "      <td>31.1</td>\n",
       "      <td>0</td>\n",
       "      <td>29.0325</td>\n",
       "      <td>29.4022</td>\n",
       "      <td>0.0547</td>\n",
       "      <td>-0.1658</td>\n",
       "      <td>102.3</td>\n",
       "      <td>0.0182</td>\n",
       "    </tr>\n",
       "    <tr>\n",
       "      <th>11</th>\n",
       "      <td>20141118</td>\n",
       "      <td>20141118_131037</td>\n",
       "      <td>15.471</td>\n",
       "      <td>wild-type</td>\n",
       "      <td>11</td>\n",
       "      <td>1</td>\n",
       "      <td>234.9</td>\n",
       "      <td>0.099873</td>\n",
       "      <td>0.1741</td>\n",
       "      <td>1.6</td>\n",
       "      <td>...</td>\n",
       "      <td>1</td>\n",
       "      <td>0.089</td>\n",
       "      <td>29.2</td>\n",
       "      <td>0</td>\n",
       "      <td>29.0343</td>\n",
       "      <td>29.3971</td>\n",
       "      <td>0.0541</td>\n",
       "      <td>-0.1655</td>\n",
       "      <td>102.5</td>\n",
       "      <td>0.0169</td>\n",
       "    </tr>\n",
       "    <tr>\n",
       "      <th>12</th>\n",
       "      <td>20141118</td>\n",
       "      <td>20141118_131037</td>\n",
       "      <td>15.511</td>\n",
       "      <td>wild-type</td>\n",
       "      <td>12</td>\n",
       "      <td>1</td>\n",
       "      <td>234.9</td>\n",
       "      <td>0.100602</td>\n",
       "      <td>0.1700</td>\n",
       "      <td>1.7</td>\n",
       "      <td>...</td>\n",
       "      <td>1</td>\n",
       "      <td>0.096</td>\n",
       "      <td>29.7</td>\n",
       "      <td>0</td>\n",
       "      <td>29.0361</td>\n",
       "      <td>29.3905</td>\n",
       "      <td>0.0519</td>\n",
       "      <td>-0.1619</td>\n",
       "      <td>102.6</td>\n",
       "      <td>0.0154</td>\n",
       "    </tr>\n",
       "    <tr>\n",
       "      <th>13</th>\n",
       "      <td>20141118</td>\n",
       "      <td>20141118_131037</td>\n",
       "      <td>15.551</td>\n",
       "      <td>wild-type</td>\n",
       "      <td>13</td>\n",
       "      <td>1</td>\n",
       "      <td>234.9</td>\n",
       "      <td>0.099873</td>\n",
       "      <td>0.1695</td>\n",
       "      <td>2.1</td>\n",
       "      <td>...</td>\n",
       "      <td>1</td>\n",
       "      <td>0.102</td>\n",
       "      <td>29.4</td>\n",
       "      <td>0</td>\n",
       "      <td>29.0384</td>\n",
       "      <td>29.3842</td>\n",
       "      <td>0.0505</td>\n",
       "      <td>-0.1617</td>\n",
       "      <td>102.4</td>\n",
       "      <td>0.0144</td>\n",
       "    </tr>\n",
       "    <tr>\n",
       "      <th>14</th>\n",
       "      <td>20141118</td>\n",
       "      <td>20141118_131037</td>\n",
       "      <td>15.590</td>\n",
       "      <td>wild-type</td>\n",
       "      <td>14</td>\n",
       "      <td>1</td>\n",
       "      <td>234.9</td>\n",
       "      <td>0.097686</td>\n",
       "      <td>0.1691</td>\n",
       "      <td>2.7</td>\n",
       "      <td>...</td>\n",
       "      <td>1</td>\n",
       "      <td>0.108</td>\n",
       "      <td>26.2</td>\n",
       "      <td>0</td>\n",
       "      <td>29.0396</td>\n",
       "      <td>29.3792</td>\n",
       "      <td>0.0483</td>\n",
       "      <td>-0.1621</td>\n",
       "      <td>102.5</td>\n",
       "      <td>0.0120</td>\n",
       "    </tr>\n",
       "    <tr>\n",
       "      <th>15</th>\n",
       "      <td>20141118</td>\n",
       "      <td>20141118_131037</td>\n",
       "      <td>15.631</td>\n",
       "      <td>wild-type</td>\n",
       "      <td>15</td>\n",
       "      <td>1</td>\n",
       "      <td>234.9</td>\n",
       "      <td>0.095499</td>\n",
       "      <td>0.1676</td>\n",
       "      <td>3.4</td>\n",
       "      <td>...</td>\n",
       "      <td>1</td>\n",
       "      <td>0.115</td>\n",
       "      <td>27.1</td>\n",
       "      <td>0</td>\n",
       "      <td>29.0418</td>\n",
       "      <td>29.3724</td>\n",
       "      <td>0.0453</td>\n",
       "      <td>-0.1613</td>\n",
       "      <td>102.7</td>\n",
       "      <td>0.0087</td>\n",
       "    </tr>\n",
       "    <tr>\n",
       "      <th>16</th>\n",
       "      <td>20141118</td>\n",
       "      <td>20141118_131037</td>\n",
       "      <td>15.671</td>\n",
       "      <td>wild-type</td>\n",
       "      <td>16</td>\n",
       "      <td>1</td>\n",
       "      <td>234.9</td>\n",
       "      <td>0.094770</td>\n",
       "      <td>0.1702</td>\n",
       "      <td>3.9</td>\n",
       "      <td>...</td>\n",
       "      <td>1</td>\n",
       "      <td>0.120</td>\n",
       "      <td>27.1</td>\n",
       "      <td>0</td>\n",
       "      <td>29.0436</td>\n",
       "      <td>29.3674</td>\n",
       "      <td>0.0459</td>\n",
       "      <td>-0.1639</td>\n",
       "      <td>102.8</td>\n",
       "      <td>0.0084</td>\n",
       "    </tr>\n",
       "    <tr>\n",
       "      <th>17</th>\n",
       "      <td>20141118</td>\n",
       "      <td>20141118_131037</td>\n",
       "      <td>15.712</td>\n",
       "      <td>wild-type</td>\n",
       "      <td>17</td>\n",
       "      <td>1</td>\n",
       "      <td>234.9</td>\n",
       "      <td>0.096228</td>\n",
       "      <td>0.1691</td>\n",
       "      <td>4.2</td>\n",
       "      <td>...</td>\n",
       "      <td>1</td>\n",
       "      <td>0.128</td>\n",
       "      <td>26.9</td>\n",
       "      <td>0</td>\n",
       "      <td>29.0460</td>\n",
       "      <td>29.3599</td>\n",
       "      <td>0.0457</td>\n",
       "      <td>-0.1628</td>\n",
       "      <td>103.0</td>\n",
       "      <td>0.0080</td>\n",
       "    </tr>\n",
       "    <tr>\n",
       "      <th>18</th>\n",
       "      <td>20141118</td>\n",
       "      <td>20141118_131037</td>\n",
       "      <td>15.752</td>\n",
       "      <td>wild-type</td>\n",
       "      <td>18</td>\n",
       "      <td>1</td>\n",
       "      <td>234.9</td>\n",
       "      <td>0.096957</td>\n",
       "      <td>0.1654</td>\n",
       "      <td>4.3</td>\n",
       "      <td>...</td>\n",
       "      <td>1</td>\n",
       "      <td>0.135</td>\n",
       "      <td>27.1</td>\n",
       "      <td>0</td>\n",
       "      <td>29.0473</td>\n",
       "      <td>29.3530</td>\n",
       "      <td>0.0447</td>\n",
       "      <td>-0.1592</td>\n",
       "      <td>103.2</td>\n",
       "      <td>0.0072</td>\n",
       "    </tr>\n",
       "    <tr>\n",
       "      <th>19</th>\n",
       "      <td>20141118</td>\n",
       "      <td>20141118_131037</td>\n",
       "      <td>15.791</td>\n",
       "      <td>wild-type</td>\n",
       "      <td>19</td>\n",
       "      <td>1</td>\n",
       "      <td>234.9</td>\n",
       "      <td>0.096957</td>\n",
       "      <td>0.1647</td>\n",
       "      <td>5.1</td>\n",
       "      <td>...</td>\n",
       "      <td>1</td>\n",
       "      <td>0.142</td>\n",
       "      <td>25.5</td>\n",
       "      <td>0</td>\n",
       "      <td>29.0494</td>\n",
       "      <td>29.3457</td>\n",
       "      <td>0.0431</td>\n",
       "      <td>-0.1590</td>\n",
       "      <td>103.3</td>\n",
       "      <td>0.0053</td>\n",
       "    </tr>\n",
       "  </tbody>\n",
       "</table>\n",
       "<p>20 rows × 29 columns</p>\n",
       "</div>"
      ],
      "text/plain": [
       "        date            plate    time     strain  frame  ID  persistance  \\\n",
       "0   20141118  20141118_131037  15.028  wild-type      0   1        234.9   \n",
       "1   20141118  20141118_131037  15.069  wild-type      1   1        234.9   \n",
       "2   20141118  20141118_131037  15.109  wild-type      2   1        234.9   \n",
       "3   20141118  20141118_131037  15.148  wild-type      3   1        234.9   \n",
       "4   20141118  20141118_131037  15.186  wild-type      4   1        234.9   \n",
       "5   20141118  20141118_131037  15.229  wild-type      5   1        234.9   \n",
       "6   20141118  20141118_131037  15.270  wild-type      6   1        234.9   \n",
       "7   20141118  20141118_131037  15.310  wild-type      7   1        234.9   \n",
       "8   20141118  20141118_131037  15.350  wild-type      8   1        234.9   \n",
       "9   20141118  20141118_131037  15.387  wild-type      9   1        234.9   \n",
       "10  20141118  20141118_131037  15.432  wild-type     10   1        234.9   \n",
       "11  20141118  20141118_131037  15.471  wild-type     11   1        234.9   \n",
       "12  20141118  20141118_131037  15.511  wild-type     12   1        234.9   \n",
       "13  20141118  20141118_131037  15.551  wild-type     13   1        234.9   \n",
       "14  20141118  20141118_131037  15.590  wild-type     14   1        234.9   \n",
       "15  20141118  20141118_131037  15.631  wild-type     15   1        234.9   \n",
       "16  20141118  20141118_131037  15.671  wild-type     16   1        234.9   \n",
       "17  20141118  20141118_131037  15.712  wild-type     17   1        234.9   \n",
       "18  20141118  20141118_131037  15.752  wild-type     18   1        234.9   \n",
       "19  20141118  20141118_131037  15.791  wild-type     19   1        234.9   \n",
       "\n",
       "        area   speed  angularspeed   ...    bias  pathlen  curve  dir  \\\n",
       "0   0.096228     NaN           NaN   ...       1    0.000   38.2    0   \n",
       "1   0.096957     NaN           NaN   ...       1    0.010   32.7    0   \n",
       "2   0.096957     NaN           NaN   ...       1    0.019   34.0    0   \n",
       "3   0.095499     NaN           NaN   ...       1    0.027   33.5    0   \n",
       "4   0.095499     NaN           NaN   ...       1    0.036   34.2    0   \n",
       "5   0.096228     NaN           NaN   ...       1    0.044   34.4    0   \n",
       "6   0.100602     NaN           NaN   ...       1    0.054   35.0    0   \n",
       "7   0.100602  0.1914           1.3   ...       1    0.061   33.8    0   \n",
       "8   0.099873  0.1844           0.9   ...       1    0.069   33.7    0   \n",
       "9   0.099144  0.1807           1.1   ...       1    0.077   33.7    0   \n",
       "10  0.096957  0.1746           1.5   ...       1    0.084   31.1    0   \n",
       "11  0.099873  0.1741           1.6   ...       1    0.089   29.2    0   \n",
       "12  0.100602  0.1700           1.7   ...       1    0.096   29.7    0   \n",
       "13  0.099873  0.1695           2.1   ...       1    0.102   29.4    0   \n",
       "14  0.097686  0.1691           2.7   ...       1    0.108   26.2    0   \n",
       "15  0.095499  0.1676           3.4   ...       1    0.115   27.1    0   \n",
       "16  0.094770  0.1702           3.9   ...       1    0.120   27.1    0   \n",
       "17  0.096228  0.1691           4.2   ...       1    0.128   26.9    0   \n",
       "18  0.096957  0.1654           4.3   ...       1    0.135   27.1    0   \n",
       "19  0.096957  0.1647           5.1   ...       1    0.142   25.5    0   \n",
       "\n",
       "      loc_x    loc_y   vel_x   vel_y  orient    crab  \n",
       "0   29.0036  29.4805     NaN     NaN   103.3     NaN  \n",
       "1   29.0076  29.4713     NaN     NaN   103.1     NaN  \n",
       "2   29.0113  29.4630     NaN     NaN   102.8     NaN  \n",
       "3   29.0138  29.4550     NaN     NaN   102.2     NaN  \n",
       "4   29.0172  29.4475     NaN     NaN   102.1     NaN  \n",
       "5   29.0197  29.4397     NaN     NaN   102.3     NaN  \n",
       "6   29.0225  29.4302     NaN     NaN   102.4     NaN  \n",
       "7   29.0251  29.4233  0.0640 -0.1804   102.3  0.0240  \n",
       "8   29.0278  29.4162  0.0593 -0.1746   102.4  0.0205  \n",
       "9   29.0309  29.4083  0.0579 -0.1712   102.3  0.0201  \n",
       "10  29.0325  29.4022  0.0547 -0.1658   102.3  0.0182  \n",
       "11  29.0343  29.3971  0.0541 -0.1655   102.5  0.0169  \n",
       "12  29.0361  29.3905  0.0519 -0.1619   102.6  0.0154  \n",
       "13  29.0384  29.3842  0.0505 -0.1617   102.4  0.0144  \n",
       "14  29.0396  29.3792  0.0483 -0.1621   102.5  0.0120  \n",
       "15  29.0418  29.3724  0.0453 -0.1613   102.7  0.0087  \n",
       "16  29.0436  29.3674  0.0459 -0.1639   102.8  0.0084  \n",
       "17  29.0460  29.3599  0.0457 -0.1628   103.0  0.0080  \n",
       "18  29.0473  29.3530  0.0447 -0.1592   103.2  0.0072  \n",
       "19  29.0494  29.3457  0.0431 -0.1590   103.3  0.0053  \n",
       "\n",
       "[20 rows x 29 columns]"
      ]
     },
     "execution_count": 91,
     "metadata": {},
     "output_type": "execute_result"
    }
   ],
   "source": [
    "# show data\n",
    "\n",
    "decays_data\n",
    "\n",
    "# Show only the first 5 rows of the data\n",
    "\n",
    "decays_data.head(n=20)"
   ]
  },
  {
   "cell_type": "markdown",
   "metadata": {},
   "source": [
    "### Question and Hypothesis for research:\n",
    "\n",
    "What is the difference in speed between the wild type and the mutant_1 worms?\n",
    "\n",
    "Hypothesis: Mutant_1 worms are quicker at sensing carbon dioxide in the study in comparison to the wild type worms which are not resulting in mutant_1 worms having a greater speed. \n",
    "\n",
    "\n",
    "###Statistical analysis of the data\n",
    "\n",
    "To test the hypothesis a two sampled t-test wll be applied to the required data frame. "
   ]
  },
  {
   "cell_type": "markdown",
   "metadata": {},
   "source": [
    "### General Code used to calculate the two sampled t-test\n",
    "\n",
    "-> rvs1=stats.norm.rvs(loc=mean1, scale=variance, size= n)\n",
    "\n",
    "-> rvs2=stats.norm.rvs(loc=mean2, scale=variance2, size= n)\n",
    "\n",
    "--> stats.ttest_ind(rvs1,rvs2, equal_var=False)"
   ]
  },
  {
   "cell_type": "code",
   "execution_count": 280,
   "metadata": {
    "collapsed": false
   },
   "outputs": [
    {
     "data": {
      "text/html": [
       "<div>\n",
       "<table border=\"1\" class=\"dataframe\">\n",
       "  <thead>\n",
       "    <tr style=\"text-align: right;\">\n",
       "      <th></th>\n",
       "      <th>strain</th>\n",
       "      <th>speed</th>\n",
       "    </tr>\n",
       "  </thead>\n",
       "  <tbody>\n",
       "    <tr>\n",
       "      <th>0</th>\n",
       "      <td>wild-type</td>\n",
       "      <td>NaN</td>\n",
       "    </tr>\n",
       "    <tr>\n",
       "      <th>1</th>\n",
       "      <td>wild-type</td>\n",
       "      <td>NaN</td>\n",
       "    </tr>\n",
       "    <tr>\n",
       "      <th>2</th>\n",
       "      <td>wild-type</td>\n",
       "      <td>NaN</td>\n",
       "    </tr>\n",
       "    <tr>\n",
       "      <th>3</th>\n",
       "      <td>wild-type</td>\n",
       "      <td>NaN</td>\n",
       "    </tr>\n",
       "    <tr>\n",
       "      <th>4</th>\n",
       "      <td>wild-type</td>\n",
       "      <td>NaN</td>\n",
       "    </tr>\n",
       "  </tbody>\n",
       "</table>\n",
       "</div>"
      ],
      "text/plain": [
       "      strain  speed\n",
       "0  wild-type    NaN\n",
       "1  wild-type    NaN\n",
       "2  wild-type    NaN\n",
       "3  wild-type    NaN\n",
       "4  wild-type    NaN"
      ]
     },
     "execution_count": 280,
     "metadata": {},
     "output_type": "execute_result"
    }
   ],
   "source": [
    "# Here we extract only two columns from the data as these are the main variables for the statistcal analysis\n",
    "\n",
    "strain_df=decays_data[['strain','speed']]\n",
    "strain_df.head()"
   ]
  },
  {
   "cell_type": "code",
   "execution_count": 56,
   "metadata": {
    "collapsed": false
   },
   "outputs": [
    {
     "data": {
      "text/html": [
       "<div>\n",
       "<table border=\"1\" class=\"dataframe\">\n",
       "  <thead>\n",
       "    <tr style=\"text-align: right;\">\n",
       "      <th></th>\n",
       "      <th>strain</th>\n",
       "      <th>speed</th>\n",
       "    </tr>\n",
       "  </thead>\n",
       "  <tbody>\n",
       "    <tr>\n",
       "      <th>7</th>\n",
       "      <td>wild-type</td>\n",
       "      <td>0.1914</td>\n",
       "    </tr>\n",
       "    <tr>\n",
       "      <th>8</th>\n",
       "      <td>wild-type</td>\n",
       "      <td>0.1844</td>\n",
       "    </tr>\n",
       "    <tr>\n",
       "      <th>9</th>\n",
       "      <td>wild-type</td>\n",
       "      <td>0.1807</td>\n",
       "    </tr>\n",
       "    <tr>\n",
       "      <th>10</th>\n",
       "      <td>wild-type</td>\n",
       "      <td>0.1746</td>\n",
       "    </tr>\n",
       "    <tr>\n",
       "      <th>11</th>\n",
       "      <td>wild-type</td>\n",
       "      <td>0.1741</td>\n",
       "    </tr>\n",
       "  </tbody>\n",
       "</table>\n",
       "</div>"
      ],
      "text/plain": [
       "       strain   speed\n",
       "7   wild-type  0.1914\n",
       "8   wild-type  0.1844\n",
       "9   wild-type  0.1807\n",
       "10  wild-type  0.1746\n",
       "11  wild-type  0.1741"
      ]
     },
     "execution_count": 56,
     "metadata": {},
     "output_type": "execute_result"
    }
   ],
   "source": [
    "# Eliminate NaN from the dataset \n",
    "\n",
    "strain_df=strain_df.dropna()\n",
    "strain_df.head()"
   ]
  },
  {
   "cell_type": "code",
   "execution_count": 200,
   "metadata": {
    "collapsed": false
   },
   "outputs": [
    {
     "data": {
      "text/html": [
       "<div>\n",
       "<table border=\"1\" class=\"dataframe\">\n",
       "  <thead>\n",
       "    <tr style=\"text-align: right;\">\n",
       "      <th></th>\n",
       "      <th>strain</th>\n",
       "      <th>speed</th>\n",
       "    </tr>\n",
       "  </thead>\n",
       "  <tbody>\n",
       "    <tr>\n",
       "      <th>7</th>\n",
       "      <td>wild-type</td>\n",
       "      <td>0.1914</td>\n",
       "    </tr>\n",
       "    <tr>\n",
       "      <th>8</th>\n",
       "      <td>wild-type</td>\n",
       "      <td>0.1844</td>\n",
       "    </tr>\n",
       "    <tr>\n",
       "      <th>9</th>\n",
       "      <td>wild-type</td>\n",
       "      <td>0.1807</td>\n",
       "    </tr>\n",
       "    <tr>\n",
       "      <th>10</th>\n",
       "      <td>wild-type</td>\n",
       "      <td>0.1746</td>\n",
       "    </tr>\n",
       "    <tr>\n",
       "      <th>11</th>\n",
       "      <td>wild-type</td>\n",
       "      <td>0.1741</td>\n",
       "    </tr>\n",
       "    <tr>\n",
       "      <th>114314</th>\n",
       "      <td>mutant_1</td>\n",
       "      <td>0.1257</td>\n",
       "    </tr>\n",
       "    <tr>\n",
       "      <th>114315</th>\n",
       "      <td>mutant_1</td>\n",
       "      <td>0.1204</td>\n",
       "    </tr>\n",
       "    <tr>\n",
       "      <th>114316</th>\n",
       "      <td>mutant_1</td>\n",
       "      <td>0.1184</td>\n",
       "    </tr>\n",
       "    <tr>\n",
       "      <th>114317</th>\n",
       "      <td>mutant_1</td>\n",
       "      <td>0.1213</td>\n",
       "    </tr>\n",
       "    <tr>\n",
       "      <th>114318</th>\n",
       "      <td>mutant_1</td>\n",
       "      <td>0.1271</td>\n",
       "    </tr>\n",
       "  </tbody>\n",
       "</table>\n",
       "</div>"
      ],
      "text/plain": [
       "           strain   speed\n",
       "7       wild-type  0.1914\n",
       "8       wild-type  0.1844\n",
       "9       wild-type  0.1807\n",
       "10      wild-type  0.1746\n",
       "11      wild-type  0.1741\n",
       "114314   mutant_1  0.1257\n",
       "114315   mutant_1  0.1204\n",
       "114316   mutant_1  0.1184\n",
       "114317   mutant_1  0.1213\n",
       "114318   mutant_1  0.1271"
      ]
     },
     "execution_count": 200,
     "metadata": {},
     "output_type": "execute_result"
    }
   ],
   "source": [
    "#Resample the data to group by strain\n",
    "\n",
    "strain_resampled=strain_df.groupby('strain')\n",
    "strain_resampled.head()\n"
   ]
  },
  {
   "cell_type": "code",
   "execution_count": 281,
   "metadata": {
    "collapsed": false
   },
   "outputs": [
    {
     "data": {
      "text/html": [
       "<div>\n",
       "<table border=\"1\" class=\"dataframe\">\n",
       "  <thead>\n",
       "    <tr style=\"text-align: right;\">\n",
       "      <th></th>\n",
       "      <th>strain</th>\n",
       "      <th>speed</th>\n",
       "    </tr>\n",
       "  </thead>\n",
       "  <tbody>\n",
       "    <tr>\n",
       "      <th>114307</th>\n",
       "      <td>mutant_1</td>\n",
       "      <td>NaN</td>\n",
       "    </tr>\n",
       "    <tr>\n",
       "      <th>114308</th>\n",
       "      <td>mutant_1</td>\n",
       "      <td>NaN</td>\n",
       "    </tr>\n",
       "    <tr>\n",
       "      <th>114309</th>\n",
       "      <td>mutant_1</td>\n",
       "      <td>NaN</td>\n",
       "    </tr>\n",
       "    <tr>\n",
       "      <th>114310</th>\n",
       "      <td>mutant_1</td>\n",
       "      <td>NaN</td>\n",
       "    </tr>\n",
       "    <tr>\n",
       "      <th>114311</th>\n",
       "      <td>mutant_1</td>\n",
       "      <td>NaN</td>\n",
       "    </tr>\n",
       "  </tbody>\n",
       "</table>\n",
       "</div>"
      ],
      "text/plain": [
       "          strain  speed\n",
       "114307  mutant_1    NaN\n",
       "114308  mutant_1    NaN\n",
       "114309  mutant_1    NaN\n",
       "114310  mutant_1    NaN\n",
       "114311  mutant_1    NaN"
      ]
     },
     "execution_count": 281,
     "metadata": {},
     "output_type": "execute_result"
    }
   ],
   "source": [
    "# Extract mutant_1 strain from the resampled data as this allows for easier comparison of the groups for the t test analysis\n",
    "\n",
    "mutant_strain=strain_df.groupby('strain').get_group('mutant_1')\n",
    "mutant_strain.head()"
   ]
  },
  {
   "cell_type": "code",
   "execution_count": 285,
   "metadata": {
    "collapsed": false
   },
   "outputs": [
    {
     "data": {
      "text/plain": [
       "265737"
      ]
     },
     "execution_count": 285,
     "metadata": {},
     "output_type": "execute_result"
    }
   ],
   "source": [
    "# Calculate the sample size for the mutant_1 strain\n",
    "\n",
    "len(mutant_strain)"
   ]
  },
  {
   "cell_type": "code",
   "execution_count": 284,
   "metadata": {
    "collapsed": false
   },
   "outputs": [
    {
     "data": {
      "text/html": [
       "<div>\n",
       "<table border=\"1\" class=\"dataframe\">\n",
       "  <thead>\n",
       "    <tr style=\"text-align: right;\">\n",
       "      <th></th>\n",
       "      <th>strain</th>\n",
       "      <th>speed</th>\n",
       "    </tr>\n",
       "  </thead>\n",
       "  <tbody>\n",
       "    <tr>\n",
       "      <th>0</th>\n",
       "      <td>wild-type</td>\n",
       "      <td>NaN</td>\n",
       "    </tr>\n",
       "    <tr>\n",
       "      <th>1</th>\n",
       "      <td>wild-type</td>\n",
       "      <td>NaN</td>\n",
       "    </tr>\n",
       "    <tr>\n",
       "      <th>2</th>\n",
       "      <td>wild-type</td>\n",
       "      <td>NaN</td>\n",
       "    </tr>\n",
       "    <tr>\n",
       "      <th>3</th>\n",
       "      <td>wild-type</td>\n",
       "      <td>NaN</td>\n",
       "    </tr>\n",
       "    <tr>\n",
       "      <th>4</th>\n",
       "      <td>wild-type</td>\n",
       "      <td>NaN</td>\n",
       "    </tr>\n",
       "  </tbody>\n",
       "</table>\n",
       "</div>"
      ],
      "text/plain": [
       "      strain  speed\n",
       "0  wild-type    NaN\n",
       "1  wild-type    NaN\n",
       "2  wild-type    NaN\n",
       "3  wild-type    NaN\n",
       "4  wild-type    NaN"
      ]
     },
     "execution_count": 284,
     "metadata": {},
     "output_type": "execute_result"
    }
   ],
   "source": [
    "# Extract wild-type strain from the resampled data as this allows for easier comparison of the groups for the t test analysis\n",
    "\n",
    "wild_type=strain_df.groupby('strain').get_group('wild-type')\n",
    "wild_type.head()"
   ]
  },
  {
   "cell_type": "code",
   "execution_count": 286,
   "metadata": {
    "collapsed": false
   },
   "outputs": [
    {
     "data": {
      "text/plain": [
       "241417"
      ]
     },
     "execution_count": 286,
     "metadata": {},
     "output_type": "execute_result"
    }
   ],
   "source": [
    "# Calculate the sample size (n) for the wild-type strain\n",
    "\n",
    "\n",
    "len(wild_type)"
   ]
  },
  {
   "cell_type": "code",
   "execution_count": 287,
   "metadata": {
    "collapsed": false
   },
   "outputs": [
    {
     "data": {
      "text/html": [
       "<div>\n",
       "<table border=\"1\" class=\"dataframe\">\n",
       "  <thead>\n",
       "    <tr style=\"text-align: right;\">\n",
       "      <th></th>\n",
       "      <th>speed</th>\n",
       "    </tr>\n",
       "    <tr>\n",
       "      <th>strain</th>\n",
       "      <th></th>\n",
       "    </tr>\n",
       "  </thead>\n",
       "  <tbody>\n",
       "    <tr>\n",
       "      <th>mutant_1</th>\n",
       "      <td>0.093874</td>\n",
       "    </tr>\n",
       "    <tr>\n",
       "      <th>wild-type</th>\n",
       "      <td>0.109037</td>\n",
       "    </tr>\n",
       "  </tbody>\n",
       "</table>\n",
       "</div>"
      ],
      "text/plain": [
       "              speed\n",
       "strain             \n",
       "mutant_1   0.093874\n",
       "wild-type  0.109037"
      ]
     },
     "execution_count": 287,
     "metadata": {},
     "output_type": "execute_result"
    }
   ],
   "source": [
    "# Find the mean speed for the categorical data to confirm the difference in the mean as this helps to calculate the t-test\n",
    "\n",
    "strain_resampled.mean()"
   ]
  },
  {
   "cell_type": "code",
   "execution_count": 288,
   "metadata": {
    "collapsed": false
   },
   "outputs": [],
   "source": [
    "# Variance function defined using a loop \n",
    "\n",
    "def variance(name):\n",
    "    var=(name.std())**1/2\n",
    "    return (var)\n"
   ]
  },
  {
   "cell_type": "code",
   "execution_count": 289,
   "metadata": {
    "collapsed": false
   },
   "outputs": [
    {
     "data": {
      "text/plain": [
       "speed    0.03242\n",
       "dtype: float64"
      ]
     },
     "execution_count": 289,
     "metadata": {},
     "output_type": "execute_result"
    }
   ],
   "source": [
    "#Print variance for wild_type\n",
    "\n",
    "variance(wild_type)"
   ]
  },
  {
   "cell_type": "code",
   "execution_count": 290,
   "metadata": {
    "collapsed": false
   },
   "outputs": [
    {
     "data": {
      "text/plain": [
       "speed    0.029144\n",
       "dtype: float64"
      ]
     },
     "execution_count": 290,
     "metadata": {},
     "output_type": "execute_result"
    }
   ],
   "source": [
    "# #Print variance for mutant_strain\n",
    "\n",
    "variance(mutant_strain)"
   ]
  },
  {
   "cell_type": "code",
   "execution_count": 291,
   "metadata": {
    "collapsed": false
   },
   "outputs": [
    {
     "data": {
      "text/plain": [
       "array([ 0.08713935,  0.04282218,  0.10882944, ...,  0.14650845,\n",
       "        0.06602893,  0.11761714])"
      ]
     },
     "execution_count": 291,
     "metadata": {},
     "output_type": "execute_result"
    }
   ],
   "source": [
    "#Define array and substitute values as calculated above for this array\n",
    "\n",
    "rvs1=stats.norm.rvs(loc=0.093872, scale=0.03242, size= 239963)\n",
    "rvs1"
   ]
  },
  {
   "cell_type": "code",
   "execution_count": 292,
   "metadata": {
    "collapsed": false
   },
   "outputs": [
    {
     "data": {
      "text/plain": [
       "array([ 0.13038803,  0.12978784,  0.10017476, ...,  0.07721623,\n",
       "        0.09940389,  0.12177672])"
      ]
     },
     "execution_count": 292,
     "metadata": {},
     "output_type": "execute_result"
    }
   ],
   "source": [
    "#Define array and substitute values as calculated above for this array\n",
    "\n",
    "rvs2=stats.norm.rvs(loc=0.109037, scale=0.029144, size= 264600)\n",
    "rvs2"
   ]
  },
  {
   "cell_type": "code",
   "execution_count": 276,
   "metadata": {
    "collapsed": false
   },
   "outputs": [
    {
     "data": {
      "text/plain": [
       "(-174.38132493252263, 0.0)"
      ]
     },
     "execution_count": 276,
     "metadata": {},
     "output_type": "execute_result"
    }
   ],
   "source": [
    "# Here we calculate our t-test, where the first value is the t score and p value is 0 which shows that it is statistically significant\n",
    "stats.ttest_ind(rvs1,rvs2, equal_var=False)\n"
   ]
  },
  {
   "cell_type": "markdown",
   "metadata": {},
   "source": [
    "### Discussion of Statistical Data\n",
    "\n",
    "Results:\n",
    "T value= -174.38\n",
    "p value= 0\n",
    "\n",
    "The two-sampled t-test shows significant evidence that leds to the rejection of the null hypothesis. The p value is 0 which is less than the signficance level (0.05), this knowledge proves that the hypothesis is rejected. Therefore, there is a difference between the speed of mutant_1 and wild -type strains.  \n",
    "\n",
    "\n"
   ]
  }
 ],
 "metadata": {
  "kernelspec": {
   "display_name": "Python 3",
   "language": "python",
   "name": "python3"
  },
  "language_info": {
   "codemirror_mode": {
    "name": "ipython",
    "version": 3
   },
   "file_extension": ".py",
   "mimetype": "text/x-python",
   "name": "python",
   "nbconvert_exporter": "python",
   "pygments_lexer": "ipython3",
   "version": "3.4.3"
  }
 },
 "nbformat": 4,
 "nbformat_minor": 0
}

{
 "cells": [
  {
   "cell_type": "code",
   "execution_count": 129,
   "metadata": {
    "collapsed": true
   },
   "outputs": [],
   "source": [
    "#import libraries\n",
    "import pandas as pd\n",
    "import matplotlib.pyplot as plt\n",
    "import numpy as np\n",
    "\n",
    "#Stats libraries\n",
    "import statsmodels.api as sm\n",
    "import scipy\n",
    "\n",
    "%matplotlib inline"
   ]
  },
  {
   "cell_type": "code",
   "execution_count": 173,
   "metadata": {
    "collapsed": false
   },
   "outputs": [
    {
     "data": {
      "text/html": [
       "<div>\n",
       "<table border=\"1\" class=\"dataframe\">\n",
       "  <thead>\n",
       "    <tr style=\"text-align: right;\">\n",
       "      <th></th>\n",
       "      <th>Exchange rate</th>\n",
       "      <th>Customers</th>\n",
       "      <th>Total Sales</th>\n",
       "      <th>Year of first order</th>\n",
       "      <th>Sales in CAD</th>\n",
       "    </tr>\n",
       "    <tr>\n",
       "      <th>Date</th>\n",
       "      <th></th>\n",
       "      <th></th>\n",
       "      <th></th>\n",
       "      <th></th>\n",
       "      <th></th>\n",
       "    </tr>\n",
       "  </thead>\n",
       "  <tbody>\n",
       "    <tr>\n",
       "      <th>2014-08-01</th>\n",
       "      <td>1.0885</td>\n",
       "      <td>Membrane Specialists</td>\n",
       "      <td>425.00</td>\n",
       "      <td>2014-07-01 00:00:00</td>\n",
       "      <td>462.6125</td>\n",
       "    </tr>\n",
       "    <tr>\n",
       "      <th>2014-08-06</th>\n",
       "      <td>1.0900</td>\n",
       "      <td>Ozone Water Systems</td>\n",
       "      <td>1711.00</td>\n",
       "      <td>2013</td>\n",
       "      <td>1864.9900</td>\n",
       "    </tr>\n",
       "    <tr>\n",
       "      <th>2014-08-08</th>\n",
       "      <td>1.0910</td>\n",
       "      <td>Resla Olcu Kontrol Sistemleri</td>\n",
       "      <td>2648.40</td>\n",
       "      <td>2014-08-01 00:00:00</td>\n",
       "      <td>2889.4044</td>\n",
       "    </tr>\n",
       "    <tr>\n",
       "      <th>2014-08-11</th>\n",
       "      <td>1.0920</td>\n",
       "      <td>ASM America Inc.</td>\n",
       "      <td>17445.00</td>\n",
       "      <td>2012</td>\n",
       "      <td>19049.9400</td>\n",
       "    </tr>\n",
       "    <tr>\n",
       "      <th>2014-08-12</th>\n",
       "      <td>1.0000</td>\n",
       "      <td>Bruckner Canada</td>\n",
       "      <td>1207.24</td>\n",
       "      <td>2014-08-01 00:00:00</td>\n",
       "      <td>1207.2400</td>\n",
       "    </tr>\n",
       "  </tbody>\n",
       "</table>\n",
       "</div>"
      ],
      "text/plain": [
       "            Exchange rate                     Customers   Total Sales  \\\n",
       "Date                                                                    \n",
       "2014-08-01         1.0885          Membrane Specialists        425.00   \n",
       "2014-08-06         1.0900            Ozone Water Systems      1711.00   \n",
       "2014-08-08         1.0910  Resla Olcu Kontrol Sistemleri      2648.40   \n",
       "2014-08-11         1.0920              ASM America Inc.      17445.00   \n",
       "2014-08-12         1.0000                Bruckner Canada      1207.24   \n",
       "\n",
       "            Year of first order  Sales in CAD  \n",
       "Date                                           \n",
       "2014-08-01  2014-07-01 00:00:00      462.6125  \n",
       "2014-08-06                 2013     1864.9900  \n",
       "2014-08-08  2014-08-01 00:00:00     2889.4044  \n",
       "2014-08-11                 2012    19049.9400  \n",
       "2014-08-12  2014-08-01 00:00:00     1207.2400  "
      ]
     },
     "execution_count": 173,
     "metadata": {},
     "output_type": "execute_result"
    }
   ],
   "source": [
    "#creating a string that contains the filename, for when a file name is very long. Makes it more readable.\n",
    "filename = 'All data.xlsm'\n",
    "\n",
    "df = pd.read_excel(filename, sheetname = 'Multiple Years', index_col='Date')\n",
    "#To load dataset from excel into python, specified taking data from one sheet called '2013 -2014'\n",
    "# Also making the column date the index column\n",
    "\n",
    "# Creating a new column in the data set, which puts all sales amounts in Canadian dollars. \n",
    "df['Sales in CAD'] = df['Exchange rate'] * df['Total Sales'] \n",
    "\n",
    "df.head()"
   ]
  },
  {
   "cell_type": "code",
   "execution_count": 131,
   "metadata": {
    "collapsed": false
   },
   "outputs": [
    {
     "data": {
      "text/html": [
       "<div>\n",
       "<table border=\"1\" class=\"dataframe\">\n",
       "  <thead>\n",
       "    <tr style=\"text-align: right;\">\n",
       "      <th></th>\n",
       "      <th>Exchange rate</th>\n",
       "      <th>Total Sales</th>\n",
       "      <th>Sales in CAD</th>\n",
       "    </tr>\n",
       "    <tr>\n",
       "      <th>Date</th>\n",
       "      <th></th>\n",
       "      <th></th>\n",
       "      <th></th>\n",
       "    </tr>\n",
       "  </thead>\n",
       "  <tbody>\n",
       "    <tr>\n",
       "      <th>2012-08-31</th>\n",
       "      <td>15</td>\n",
       "      <td>266208.49</td>\n",
       "      <td>266208.49</td>\n",
       "    </tr>\n",
       "    <tr>\n",
       "      <th>2012-09-30</th>\n",
       "      <td>15</td>\n",
       "      <td>242972.33</td>\n",
       "      <td>242972.33</td>\n",
       "    </tr>\n",
       "    <tr>\n",
       "      <th>2012-10-31</th>\n",
       "      <td>9</td>\n",
       "      <td>78000.68</td>\n",
       "      <td>78000.68</td>\n",
       "    </tr>\n",
       "    <tr>\n",
       "      <th>2012-11-30</th>\n",
       "      <td>11</td>\n",
       "      <td>165319.22</td>\n",
       "      <td>165319.22</td>\n",
       "    </tr>\n",
       "    <tr>\n",
       "      <th>2012-12-31</th>\n",
       "      <td>2</td>\n",
       "      <td>8561.60</td>\n",
       "      <td>8561.60</td>\n",
       "    </tr>\n",
       "  </tbody>\n",
       "</table>\n",
       "</div>"
      ],
      "text/plain": [
       "            Exchange rate  Total Sales  Sales in CAD\n",
       "Date                                                \n",
       "2012-08-31             15    266208.49     266208.49\n",
       "2012-09-30             15    242972.33     242972.33\n",
       "2012-10-31              9     78000.68      78000.68\n",
       "2012-11-30             11    165319.22     165319.22\n",
       "2012-12-31              2      8561.60       8561.60"
      ]
     },
     "execution_count": 131,
     "metadata": {},
     "output_type": "execute_result"
    }
   ],
   "source": [
    "# Data will be downsampled to month, takin the sum of the Sales in each month. \n",
    "df_resampled = df.resample('M', how=('sum'))     \n",
    "df_resampled.head()"
   ]
  },
  {
   "cell_type": "code",
   "execution_count": 132,
   "metadata": {
    "collapsed": false
   },
   "outputs": [
    {
     "data": {
      "text/html": [
       "<div>\n",
       "<table border=\"1\" class=\"dataframe\">\n",
       "  <thead>\n",
       "    <tr style=\"text-align: right;\">\n",
       "      <th></th>\n",
       "      <th>Date</th>\n",
       "      <th>Sales in CAD</th>\n",
       "    </tr>\n",
       "  </thead>\n",
       "  <tbody>\n",
       "    <tr>\n",
       "      <th>0</th>\n",
       "      <td>2012-08-31</td>\n",
       "      <td>266208.49</td>\n",
       "    </tr>\n",
       "    <tr>\n",
       "      <th>1</th>\n",
       "      <td>2012-09-30</td>\n",
       "      <td>242972.33</td>\n",
       "    </tr>\n",
       "    <tr>\n",
       "      <th>2</th>\n",
       "      <td>2012-10-31</td>\n",
       "      <td>78000.68</td>\n",
       "    </tr>\n",
       "    <tr>\n",
       "      <th>3</th>\n",
       "      <td>2012-11-30</td>\n",
       "      <td>165319.22</td>\n",
       "    </tr>\n",
       "    <tr>\n",
       "      <th>4</th>\n",
       "      <td>2012-12-31</td>\n",
       "      <td>8561.60</td>\n",
       "    </tr>\n",
       "  </tbody>\n",
       "</table>\n",
       "</div>"
      ],
      "text/plain": [
       "        Date  Sales in CAD\n",
       "0 2012-08-31     266208.49\n",
       "1 2012-09-30     242972.33\n",
       "2 2012-10-31      78000.68\n",
       "3 2012-11-30     165319.22\n",
       "4 2012-12-31       8561.60"
      ]
     },
     "execution_count": 132,
     "metadata": {},
     "output_type": "execute_result"
    }
   ],
   "source": [
    "#To show only two columns in the table, with Date as index. \n",
    "SalesCAD_df = df_resampled[['Sales in CAD']]\n",
    "\n",
    "# To reset the index to numbers and make Date a regular column again after the resampling.\n",
    "resampled_ind = SalesCAD_df.reset_index()\n",
    "resampled_ind.head()"
   ]
  },
  {
   "cell_type": "code",
   "execution_count": 141,
   "metadata": {
    "collapsed": false
   },
   "outputs": [
    {
     "data": {
      "text/html": [
       "<div>\n",
       "<table border=\"1\" class=\"dataframe\">\n",
       "  <thead>\n",
       "    <tr style=\"text-align: right;\">\n",
       "      <th></th>\n",
       "      <th>Date</th>\n",
       "      <th>Sales in CAD</th>\n",
       "      <th>Month</th>\n",
       "    </tr>\n",
       "  </thead>\n",
       "  <tbody>\n",
       "    <tr>\n",
       "      <th>0</th>\n",
       "      <td>2012-08-31</td>\n",
       "      <td>266208.49</td>\n",
       "      <td>8</td>\n",
       "    </tr>\n",
       "    <tr>\n",
       "      <th>1</th>\n",
       "      <td>2012-09-30</td>\n",
       "      <td>242972.33</td>\n",
       "      <td>9</td>\n",
       "    </tr>\n",
       "    <tr>\n",
       "      <th>2</th>\n",
       "      <td>2012-10-31</td>\n",
       "      <td>78000.68</td>\n",
       "      <td>10</td>\n",
       "    </tr>\n",
       "    <tr>\n",
       "      <th>3</th>\n",
       "      <td>2012-11-30</td>\n",
       "      <td>165319.22</td>\n",
       "      <td>11</td>\n",
       "    </tr>\n",
       "    <tr>\n",
       "      <th>4</th>\n",
       "      <td>2012-12-31</td>\n",
       "      <td>8561.60</td>\n",
       "      <td>12</td>\n",
       "    </tr>\n",
       "  </tbody>\n",
       "</table>\n",
       "</div>"
      ],
      "text/plain": [
       "        Date  Sales in CAD  Month\n",
       "0 2012-08-31     266208.49      8\n",
       "1 2012-09-30     242972.33      9\n",
       "2 2012-10-31      78000.68     10\n",
       "3 2012-11-30     165319.22     11\n",
       "4 2012-12-31       8561.60     12"
      ]
     },
     "execution_count": 141,
     "metadata": {},
     "output_type": "execute_result"
    }
   ],
   "source": [
    "#Taking the month out of the Date column. \n",
    "date= resampled_ind.iloc[0, 0]\n",
    "type(date.month)\n",
    "\n",
    "#Creating a new column of month, by taking the month out of the Date column  \n",
    "resampled_ind['Month'] = resampled_ind['Month'].dt.month\n",
    "resampled_ind.head()"
   ]
  },
  {
   "cell_type": "code",
   "execution_count": 154,
   "metadata": {
    "collapsed": false
   },
   "outputs": [
    {
     "data": {
      "text/html": [
       "<div>\n",
       "<table border=\"1\" class=\"dataframe\">\n",
       "  <thead>\n",
       "    <tr style=\"text-align: right;\">\n",
       "      <th></th>\n",
       "      <th>Sales_in_CAD</th>\n",
       "      <th>Month</th>\n",
       "    </tr>\n",
       "  </thead>\n",
       "  <tbody>\n",
       "    <tr>\n",
       "      <th>0</th>\n",
       "      <td>266208.49</td>\n",
       "      <td>8</td>\n",
       "    </tr>\n",
       "    <tr>\n",
       "      <th>1</th>\n",
       "      <td>242972.33</td>\n",
       "      <td>9</td>\n",
       "    </tr>\n",
       "    <tr>\n",
       "      <th>2</th>\n",
       "      <td>78000.68</td>\n",
       "      <td>10</td>\n",
       "    </tr>\n",
       "    <tr>\n",
       "      <th>3</th>\n",
       "      <td>165319.22</td>\n",
       "      <td>11</td>\n",
       "    </tr>\n",
       "    <tr>\n",
       "      <th>4</th>\n",
       "      <td>8561.60</td>\n",
       "      <td>12</td>\n",
       "    </tr>\n",
       "  </tbody>\n",
       "</table>\n",
       "</div>"
      ],
      "text/plain": [
       "   Sales_in_CAD  Month\n",
       "0     266208.49      8\n",
       "1     242972.33      9\n",
       "2      78000.68     10\n",
       "3     165319.22     11\n",
       "4       8561.60     12"
      ]
     },
     "execution_count": 154,
     "metadata": {},
     "output_type": "execute_result"
    }
   ],
   "source": [
    "#To show only the two columns Sales in CAD and Month\n",
    "resampled_month = resampled_ind[['Sales in CAD', 'Month']]\n",
    "\n",
    "#Renaming the columns\n",
    "resampled_month.columns = ['Sales_in_CAD', 'Month']\n",
    "resampled_month.head()"
   ]
  },
  {
   "cell_type": "code",
   "execution_count": 155,
   "metadata": {
    "collapsed": false
   },
   "outputs": [
    {
     "data": {
      "text/plain": [
       "<matplotlib.axes._subplots.AxesSubplot at 0xa7cce10>"
      ]
     },
     "execution_count": 155,
     "metadata": {},
     "output_type": "execute_result"
    },
    {
     "name": "stderr",
     "output_type": "stream",
     "text": [
      "C:\\Users\\mim\\Anaconda3\\lib\\site-packages\\matplotlib\\collections.py:590: FutureWarning: elementwise comparison failed; returning scalar instead, but in the future will perform elementwise comparison\n",
      "  if self._edgecolors == str('face'):\n"
     ]
    },
    {
     "data": {
      "image/png": "[encoded data removed]",
      "text/plain": [
       "<matplotlib.figure.Figure at 0xa801588>"
      ]
     },
     "metadata": {},
     "output_type": "display_data"
    }
   ],
   "source": [
    "# visualize the relationship between Month of the year and Sales in CAD. \n",
    "resampled_month.plot(kind='scatter', x='Month', y='Sales_in_CAD')\n"
   ]
  },
  {
   "cell_type": "markdown",
   "metadata": {},
   "source": [
    "#Is there a relationship between Sales and Month of the Year? \n",
    "#Hypothesis: There is no relationship between Sales and Month of the Year. "
   ]
  },
  {
   "cell_type": "code",
   "execution_count": 172,
   "metadata": {
    "collapsed": false
   },
   "outputs": [
    {
     "data": {
      "image/png": "[encoded data removed]",
      "text/plain": [
       "<matplotlib.figure.Figure at 0xacb3eb8>"
      ]
     },
     "metadata": {},
     "output_type": "display_data"
    }
   ],
   "source": [
    "#To see if distribution is normal, use the hist function, which will help decide which statistical test to run\n",
    "#Look at data with the hist function\n",
    "#bins numbers od bars in the plot\n",
    "resampled_month.hist(column='Sales_in_CAD', bins=50)\n",
    "plt.show()"
   ]
  },
  {
   "cell_type": "code",
   "execution_count": 166,
   "metadata": {
    "collapsed": false
   },
   "outputs": [
    {
     "data": {
      "text/html": [
       "<div>\n",
       "<table border=\"1\" class=\"dataframe\">\n",
       "  <thead>\n",
       "    <tr style=\"text-align: right;\">\n",
       "      <th></th>\n",
       "      <th>Sales_in_CAD</th>\n",
       "      <th>Month</th>\n",
       "    </tr>\n",
       "  </thead>\n",
       "  <tbody>\n",
       "    <tr>\n",
       "      <th>4</th>\n",
       "      <td>8561.600000</td>\n",
       "      <td>12</td>\n",
       "    </tr>\n",
       "    <tr>\n",
       "      <th>5</th>\n",
       "      <td>53179.200000</td>\n",
       "      <td>1</td>\n",
       "    </tr>\n",
       "    <tr>\n",
       "      <th>16</th>\n",
       "      <td>82281.359000</td>\n",
       "      <td>12</td>\n",
       "    </tr>\n",
       "    <tr>\n",
       "      <th>17</th>\n",
       "      <td>48638.680380</td>\n",
       "      <td>1</td>\n",
       "    </tr>\n",
       "    <tr>\n",
       "      <th>28</th>\n",
       "      <td>85777.469182</td>\n",
       "      <td>12</td>\n",
       "    </tr>\n",
       "  </tbody>\n",
       "</table>\n",
       "</div>"
      ],
      "text/plain": [
       "    Sales_in_CAD  Month\n",
       "4    8561.600000     12\n",
       "5   53179.200000      1\n",
       "16  82281.359000     12\n",
       "17  48638.680380      1\n",
       "28  85777.469182     12"
      ]
     },
     "execution_count": 166,
     "metadata": {},
     "output_type": "execute_result"
    }
   ],
   "source": [
    "#Getting a plot of only beginning and end values with bins\n",
    "beg_end = resampled_month[(resampled_month.Month == 1) | (resampled_month.Month == 12)]\n",
    "beg_end.head()\n"
   ]
  },
  {
   "cell_type": "code",
   "execution_count": 167,
   "metadata": {
    "collapsed": false
   },
   "outputs": [
    {
     "data": {
      "image/png": "[encoded data removed]",
      "text/plain": [
       "<matplotlib.figure.Figure at 0xab73e10>"
      ]
     },
     "metadata": {},
     "output_type": "display_data"
    }
   ],
   "source": [
    "#Look at the data. Looking at distribution at beginning and end of dataset. \n",
    "beg_end.hist(by='Month', column='Sales_in_CAD', bins=25)\n",
    "plt.show()"
   ]
  },
  {
   "cell_type": "code",
   "execution_count": 169,
   "metadata": {
    "collapsed": true
   },
   "outputs": [],
   "source": [
    "#Creating variables for each Month at the beginning od year and end of year\n",
    "#Add Sales_in_CAd because you only want that column \n",
    "\n",
    "beg = beg_end.Sales_in_CAD[beg_end.Month == 1]\n",
    "end = beg_end.Sales_in_CAD[beg_end.Month == 12]"
   ]
  },
  {
   "cell_type": "code",
   "execution_count": 177,
   "metadata": {
    "collapsed": false
   },
   "outputs": [
    {
     "data": {
      "text/plain": [
       "(0.9130611419677734, 0.42837297916412354)"
      ]
     },
     "execution_count": 177,
     "metadata": {},
     "output_type": "execute_result"
    }
   ],
   "source": [
    "#Run a shapiro test, to find if the distribution is normal. \n",
    "#If the p-value (second value) is > 0.05, then the distribution is normal. \n",
    "#Shapiro test on the beginning of the dataset\n",
    "scipy.stats.shapiro(beg)"
   ]
  },
  {
   "cell_type": "code",
   "execution_count": 175,
   "metadata": {
    "collapsed": false
   },
   "outputs": [
    {
     "data": {
      "text/plain": [
       "(0.78388512134552, 0.07658052444458008)"
      ]
     },
     "execution_count": 175,
     "metadata": {},
     "output_type": "execute_result"
    }
   ],
   "source": [
    "#Shapiro test on the end of the data set. \n",
    "scipy.stats.shapiro(end)"
   ]
  },
  {
   "cell_type": "code",
   "execution_count": 178,
   "metadata": {
    "collapsed": false
   },
   "outputs": [],
   "source": [
    "#Because both p-values are >0.05 we accept the null hypothesis (that the data are normal), so the data are from a normal distribution."
   ]
  },
  {
   "cell_type": "code",
   "execution_count": 179,
   "metadata": {
    "collapsed": false
   },
   "outputs": [
    {
     "data": {
      "text/plain": [
       "Intercept    57359.998731\n",
       "Month         5049.832288\n",
       "dtype: float64"
      ]
     },
     "execution_count": 179,
     "metadata": {},
     "output_type": "execute_result"
    }
   ],
   "source": [
    "#Because distribution is normal, we run a linear regression statistical test\n",
    "lm = sm.formula.ols(formula='Sales_in_CAD ~ Month', data = resampled_month).fit()\n",
    "lm.params"
   ]
  },
  {
   "cell_type": "code",
   "execution_count": 181,
   "metadata": {
    "collapsed": true
   },
   "outputs": [],
   "source": [
    "#to make a list of x values \n",
    "#Need to make a new dataframe\n",
    "x_new = pd.DataFrame({'Month' : range(1,13)})      #time is the column name and range is the range of numbers"
   ]
  },
  {
   "cell_type": "code",
   "execution_count": 182,
   "metadata": {
    "collapsed": true
   },
   "outputs": [],
   "source": [
    "y_preds = lm.predict(x_new)"
   ]
  },
  {
   "cell_type": "code",
   "execution_count": 185,
   "metadata": {
    "collapsed": false
   },
   "outputs": [
    {
     "data": {
      "text/plain": [
       "[<matplotlib.lines.Line2D at 0xac69b38>]"
      ]
     },
     "execution_count": 185,
     "metadata": {},
     "output_type": "execute_result"
    },
    {
     "name": "stderr",
     "output_type": "stream",
     "text": [
      "C:\\Users\\mim\\Anaconda3\\lib\\site-packages\\matplotlib\\collections.py:590: FutureWarning: elementwise comparison failed; returning scalar instead, but in the future will perform elementwise comparison\n",
      "  if self._edgecolors == str('face'):\n"
     ]
    },
    {
     "data": {
      "image/png": "[encoded data removed]",
      "text/plain": [
       "<matplotlib.figure.Figure at 0xadccba8>"
      ]
     },
     "metadata": {},
     "output_type": "display_data"
    }
   ],
   "source": [
    "resampled_month.plot(kind='scatter', x='Month', y='Sales_in_CAD', color='w')\n",
    "\n",
    "plt.xlim(0, 13)\n",
    "plt.ylim(0, 300000)\n",
    "\n",
    "plt.plot(x_new, y_preds, c='red', linewidth=3)"
   ]
  },
  {
   "cell_type": "code",
   "execution_count": 186,
   "metadata": {
    "collapsed": false
   },
   "outputs": [
    {
     "name": "stdout",
     "output_type": "stream",
     "text": [
      "                            OLS Regression Results                            \n",
      "==============================================================================\n",
      "Dep. Variable:           Sales_in_CAD   R-squared:                       0.069\n",
      "Model:                            OLS   Adj. R-squared:                  0.042\n",
      "Method:                 Least Squares   F-statistic:                     2.530\n",
      "Date:                Thu, 05 Nov 2015   Prob (F-statistic):              0.121\n",
      "Time:                        11:38:12   Log-Likelihood:                -449.42\n",
      "No. Observations:                  36   AIC:                             902.8\n",
      "Df Residuals:                      34   BIC:                             906.0\n",
      "Df Model:                           1                                         \n",
      "Covariance Type:            nonrobust                                         \n",
      "==============================================================================\n",
      "                 coef    std err          t      P>|t|      [95.0% Conf. Int.]\n",
      "------------------------------------------------------------------------------\n",
      "Intercept   5.736e+04   2.34e+04      2.455      0.019      9878.667  1.05e+05\n",
      "Month       5049.8323   3174.541      1.591      0.121     -1401.610  1.15e+04\n",
      "==============================================================================\n",
      "Omnibus:                       10.888   Durbin-Watson:                   1.268\n",
      "Prob(Omnibus):                  0.004   Jarque-Bera (JB):               10.053\n",
      "Skew:                           1.156   Prob(JB):                      0.00656\n",
      "Kurtosis:                       4.164   Cond. No.                         15.9\n",
      "==============================================================================\n",
      "\n",
      "Warnings:\n",
      "[1] Standard Errors assume that the covariance matrix of the errors is correctly specified.\n"
     ]
    }
   ],
   "source": [
    "#To get all the statistical information of the plotted line\n",
    "print(lm.summary())"
   ]
  },
  {
   "cell_type": "code",
   "execution_count": 188,
   "metadata": {
    "collapsed": false
   },
   "outputs": [
    {
     "data": {
      "text/plain": [
       "0.041894329968971133"
      ]
     },
     "execution_count": 188,
     "metadata": {},
     "output_type": "execute_result"
    }
   ],
   "source": [
    "# print the adjusted R-squared value\n",
    "lm.rsquared_adj"
   ]
  },
  {
   "cell_type": "markdown",
   "metadata": {},
   "source": [
    "# This adjusted R-squared value tells us that the model does not fit the data very well. It only explains ~ 4 % of the variance in the data. This tells us that we should try a new model of different shape, that could help us better expplain the variance. \n",
    "#This statistical test does not show a siginificant relationship between Sales in CAD and Month of the Year."
   ]
  },
  {
   "cell_type": "code",
   "execution_count": null,
   "metadata": {
    "collapsed": true
   },
   "outputs": [],
   "source": []
  }
 ],
 "metadata": {
  "kernelspec": {
   "display_name": "Python 3",
   "language": "python",
   "name": "python3"
  },
  "language_info": {
   "codemirror_mode": {
    "name": "ipython",
    "version": 3
   },
   "file_extension": ".py",
   "mimetype": "text/x-python",
   "name": "python",
   "nbconvert_exporter": "python",
   "pygments_lexer": "ipython3",
   "version": "3.4.3"
  }
 },
 "nbformat": 4,
 "nbformat_minor": 0
}

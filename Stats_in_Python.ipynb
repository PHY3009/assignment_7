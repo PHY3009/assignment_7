{
 "cells": [
  {
   "cell_type": "code",
   "execution_count": 8,
   "metadata": {
    "collapsed": true
   },
   "outputs": [],
   "source": [
    "import pandas as pd\n",
    "import matplotlib.pyplot as plt\n",
    "import numpy as np\n",
    "\n",
    "# stats libraries\n",
    "import statsmodels.api as sm\n",
    "import scipy\n",
    "\n",
    "%matplotlib inline"
   ]
  },
  {
   "cell_type": "code",
   "execution_count": 20,
   "metadata": {
    "collapsed": false
   },
   "outputs": [],
   "source": [
    "#loading my data using pandas\n",
    "temp82_01 = pd.read_csv('data.csv')"
   ]
  },
  {
   "cell_type": "markdown",
   "metadata": {},
   "source": [
    "Since I've only load a small piece of my dataset (January 1982), I will try to find the relationship between temperature and elevation. The question is: does temperature decreaess with increased elevation?"
   ]
  },
  {
   "cell_type": "code",
   "execution_count": 23,
   "metadata": {
    "collapsed": false
   },
   "outputs": [],
   "source": [
    "#using ordinal least square to run linear regression to find the relationship between temperature and elevation\n",
    "temp_lm = sm.formula.ols(formula='MEAN ~ VALUE', data=temp82_01).fit()"
   ]
  },
  {
   "cell_type": "code",
   "execution_count": 24,
   "metadata": {
    "collapsed": false
   },
   "outputs": [
    {
     "data": {
      "text/plain": [
       "Intercept    15.546209\n",
       "VALUE        -0.194452\n",
       "dtype: float64"
      ]
     },
     "execution_count": 24,
     "metadata": {},
     "output_type": "execute_result"
    }
   ],
   "source": [
    "#looking for the linear regression (y-intercept and slope) to construct a line equation\n",
    "temp_lm.params"
   ]
  },
  {
   "cell_type": "code",
   "execution_count": 25,
   "metadata": {
    "collapsed": true
   },
   "outputs": [],
   "source": [
    "#generate a data frame using pandas to produce a list of numbers from 1 to 80\n",
    "newx = pd.DataFrame({'VALUE' : range(1,80)})"
   ]
  },
  {
   "cell_type": "code",
   "execution_count": 26,
   "metadata": {
    "collapsed": true
   },
   "outputs": [],
   "source": [
    "#using the lm.predict to predict the y (temperature value) based on x (elevation)\n",
    "y_preds = lm.predict(newx)"
   ]
  },
  {
   "cell_type": "code",
   "execution_count": 29,
   "metadata": {
    "collapsed": false
   },
   "outputs": [
    {
     "data": {
      "text/plain": [
       "[<matplotlib.lines.Line2D at 0x10bd6d4e0>]"
      ]
     },
     "execution_count": 29,
     "metadata": {},
     "output_type": "execute_result"
    },
    {
     "name": "stderr",
     "output_type": "stream",
     "text": [
      "/Users/billyhung/anaconda/lib/python3.4/site-packages/matplotlib/collections.py:590: FutureWarning: elementwise comparison failed; returning scalar instead, but in the future will perform elementwise comparison\n",
      "  if self._edgecolors == str('face'):\n"
     ]
    },
    {
     "data": {
      "image/png": "[encoded data removed]",
      "text/plain": [
       "<matplotlib.figure.Figure at 0x10bd6d0b8>"
      ]
     },
     "metadata": {},
     "output_type": "display_data"
    }
   ],
   "source": [
    "#generate a scatterplot on the temperature and elevation\n",
    "temp82_01.plot(kind='scatter',x=\"VALUE\", y='MEAN',c='w')\n",
    "#ploting the abline \n",
    "plt.plot(newx, y_preds, color='red',linewidth=2)"
   ]
  },
  {
   "cell_type": "code",
   "execution_count": 30,
   "metadata": {
    "collapsed": false
   },
   "outputs": [
    {
     "name": "stdout",
     "output_type": "stream",
     "text": [
      "                            OLS Regression Results                            \n",
      "==============================================================================\n",
      "Dep. Variable:                   MEAN   R-squared:                       0.982\n",
      "Model:                            OLS   Adj. R-squared:                  0.982\n",
      "Method:                 Least Squares   F-statistic:                     4258.\n",
      "Date:                Wed, 04 Nov 2015   Prob (F-statistic):           3.69e-69\n",
      "Time:                        19:54:50   Log-Likelihood:                -71.251\n",
      "No. Observations:                  79   AIC:                             146.5\n",
      "Df Residuals:                      77   BIC:                             151.2\n",
      "Df Model:                           1                                         \n",
      "Covariance Type:            nonrobust                                         \n",
      "==============================================================================\n",
      "                 coef    std err          t      P>|t|      [95.0% Conf. Int.]\n",
      "------------------------------------------------------------------------------\n",
      "Intercept     15.5462      0.137    113.303      0.000        15.273    15.819\n",
      "VALUE         -0.1945      0.003    -65.253      0.000        -0.200    -0.189\n",
      "==============================================================================\n",
      "Omnibus:                      109.950   Durbin-Watson:                   0.495\n",
      "Prob(Omnibus):                  0.000   Jarque-Bera (JB):             3065.797\n",
      "Skew:                          -4.313   Prob(JB):                         0.00\n",
      "Kurtosis:                      32.274   Cond. No.                         93.0\n",
      "==============================================================================\n",
      "\n",
      "Warnings:\n",
      "[1] Standard Errors assume that the covariance matrix of the errors is correctly specified.\n"
     ]
    }
   ],
   "source": [
    "#look for the summary for this linear model (looking for p-value and r-squared)\n",
    "#we see that p-value is really low, which means the result is significant and not caused by random chances\n",
    "#r-squared is extrememly high suggesting that the data fit the model very well. \n",
    "print(temp_lm.summary())"
   ]
  },
  {
   "cell_type": "code",
   "execution_count": 32,
   "metadata": {
    "collapsed": false
   },
   "outputs": [
    {
     "data": {
      "text/plain": [
       "array([[<matplotlib.axes._subplots.AxesSubplot object at 0x10bf9e4a8>]], dtype=object)"
      ]
     },
     "execution_count": 32,
     "metadata": {},
     "output_type": "execute_result"
    },
    {
     "data": {
      "image/png": "[encoded data removed]",
      "text/plain": [
       "<matplotlib.figure.Figure at 0x10b800710>"
      ]
     },
     "metadata": {},
     "output_type": "display_data"
    }
   ],
   "source": [
    "#to investigate the normality of the linear regression condition\n",
    "#we see that it is not normally distributed, so perhaps other test would be more accurate.\n",
    "temp82_01.hist(column='MEAN',bins=40)"
   ]
  },
  {
   "cell_type": "markdown",
   "metadata": {},
   "source": [
    "The linear regression model shows a strong relationship between temperature and elevation: as elevation goes up, temperature goes down. We see that r-squared is 0.98, which is extremely high and suggesting that the data fit the model very well. We also see that p-value is very low, which suggest that the result is significant and not cause by random chances. Furthermore, we noticed that the normality condition is not met for linear regression, which means that using a linear regression might not be appropriate. We may need to find a non parametric test for linear regression. \n",
    "\n",
    "However, I think this histogram might not be a good way to examine the normality condition. I remembered it's the normality of the residuals, which we could check by using a qqplot."
   ]
  }
 ],
 "metadata": {
  "kernelspec": {
   "display_name": "Python 3",
   "language": "python",
   "name": "python3"
  },
  "language_info": {
   "codemirror_mode": {
    "name": "ipython",
    "version": 3
   },
   "file_extension": ".py",
   "mimetype": "text/x-python",
   "name": "python",
   "nbconvert_exporter": "python",
   "pygments_lexer": "ipython3",
   "version": "3.4.3"
  }
 },
 "nbformat": 4,
 "nbformat_minor": 0
}

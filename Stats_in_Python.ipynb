{
 "cells": [
  {
   "cell_type": "code",
   "execution_count": 1,
   "metadata": {
    "collapsed": true
   },
   "outputs": [],
   "source": [
    "# Import Libraries\n",
    "import pandas as pd\n",
    "import matplotlib.pyplot as plt\n",
    "import numpy as np\n",
    "from pandas import set_option\n",
    "set_option('display.max_rows',6)\n",
    "\n",
    "# Stats Libraries\n",
    "import statsmodels.api as sm\n",
    "import scipy\n",
    "\n",
    "%matplotlib inline"
   ]
  },
  {
   "cell_type": "code",
   "execution_count": 4,
   "metadata": {
    "collapsed": false
   },
   "outputs": [
    {
     "data": {
      "text/html": [
       "<div>\n",
       "<table border=\"1\" class=\"dataframe\">\n",
       "  <thead>\n",
       "    <tr style=\"text-align: right;\">\n",
       "      <th></th>\n",
       "      <th>datetime</th>\n",
       "      <th>windspeed</th>\n",
       "      <th>winddir</th>\n",
       "      <th>windgust</th>\n",
       "      <th>temperature</th>\n",
       "      <th>pressure</th>\n",
       "    </tr>\n",
       "  </thead>\n",
       "  <tbody>\n",
       "    <tr>\n",
       "      <th>0</th>\n",
       "      <td>6/16/10 1:00</td>\n",
       "      <td>18</td>\n",
       "      <td>225</td>\n",
       "      <td>21</td>\n",
       "      <td>131</td>\n",
       "      <td>15</td>\n",
       "    </tr>\n",
       "    <tr>\n",
       "      <th>1</th>\n",
       "      <td>6/16/10 1:03</td>\n",
       "      <td>16</td>\n",
       "      <td>227</td>\n",
       "      <td>21</td>\n",
       "      <td>138</td>\n",
       "      <td>15</td>\n",
       "    </tr>\n",
       "    <tr>\n",
       "      <th>2</th>\n",
       "      <td>6/16/10 1:06</td>\n",
       "      <td>15</td>\n",
       "      <td>227</td>\n",
       "      <td>20</td>\n",
       "      <td>142</td>\n",
       "      <td>15</td>\n",
       "    </tr>\n",
       "    <tr>\n",
       "      <th>...</th>\n",
       "      <td>...</td>\n",
       "      <td>...</td>\n",
       "      <td>...</td>\n",
       "      <td>...</td>\n",
       "      <td>...</td>\n",
       "      <td>...</td>\n",
       "    </tr>\n",
       "    <tr>\n",
       "      <th>438124</th>\n",
       "      <td>4/21/15 3:48</td>\n",
       "      <td>11</td>\n",
       "      <td>222</td>\n",
       "      <td>15</td>\n",
       "      <td>150</td>\n",
       "      <td>8</td>\n",
       "    </tr>\n",
       "    <tr>\n",
       "      <th>438125</th>\n",
       "      <td>4/21/15 3:51</td>\n",
       "      <td>8</td>\n",
       "      <td>196</td>\n",
       "      <td>10</td>\n",
       "      <td>143</td>\n",
       "      <td>9</td>\n",
       "    </tr>\n",
       "    <tr>\n",
       "      <th>438126</th>\n",
       "      <td>4/21/15 3:54</td>\n",
       "      <td>8</td>\n",
       "      <td>196</td>\n",
       "      <td>10</td>\n",
       "      <td>143</td>\n",
       "      <td>9</td>\n",
       "    </tr>\n",
       "  </tbody>\n",
       "</table>\n",
       "<p>438127 rows × 6 columns</p>\n",
       "</div>"
      ],
      "text/plain": [
       "            datetime  windspeed  winddir  windgust  temperature  pressure\n",
       "0       6/16/10 1:00         18      225        21          131        15\n",
       "1       6/16/10 1:03         16      227        21          138        15\n",
       "2       6/16/10 1:06         15      227        20          142        15\n",
       "...              ...        ...      ...       ...          ...       ...\n",
       "438124  4/21/15 3:48         11      222        15          150         8\n",
       "438125  4/21/15 3:51          8      196        10          143         9\n",
       "438126  4/21/15 3:54          8      196        10          143         9\n",
       "\n",
       "[438127 rows x 6 columns]"
      ]
     },
     "execution_count": 4,
     "metadata": {},
     "output_type": "execute_result"
    }
   ],
   "source": [
    "wind = pd.read_csv('Squamish.Wind.2010-2015.csv',sep=',')\n",
    "wind"
   ]
  },
  {
   "cell_type": "markdown",
   "metadata": {},
   "source": [
    "## I would like to test if the windspeed and windgust are statistically different from each other.  I hypothesize that they aren't statistically different, as they followed very similar patterns when I graphed them, and their values always seem quite similar to each other."
   ]
  },
  {
   "cell_type": "code",
   "execution_count": 20,
   "metadata": {
    "collapsed": false
   },
   "outputs": [
    {
     "data": {
      "text/plain": [
       "(89, 5)"
      ]
     },
     "execution_count": 20,
     "metadata": {},
     "output_type": "execute_result"
    }
   ],
   "source": [
    "## Resampling the data\n",
    "wind2 = pd.read_csv('Squamish.Wind.2010-2015.csv',sep=',',index_col='datetime')\n",
    "wind2.index = pd.to_datetime(wind2.index,unit='ms')\n",
    "wind_resampled = wind2.resample('20D',how = 'mean')\n",
    "wind_resampled.shape"
   ]
  },
  {
   "cell_type": "code",
   "execution_count": 30,
   "metadata": {
    "collapsed": false
   },
   "outputs": [
    {
     "data": {
      "text/html": [
       "<div>\n",
       "<table border=\"1\" class=\"dataframe\">\n",
       "  <thead>\n",
       "    <tr style=\"text-align: right;\">\n",
       "      <th></th>\n",
       "      <th>windspeed</th>\n",
       "      <th>winddir</th>\n",
       "      <th>windgust</th>\n",
       "      <th>temperature</th>\n",
       "      <th>pressure</th>\n",
       "    </tr>\n",
       "    <tr>\n",
       "      <th>datetime</th>\n",
       "      <th></th>\n",
       "      <th></th>\n",
       "      <th></th>\n",
       "      <th></th>\n",
       "      <th></th>\n",
       "    </tr>\n",
       "  </thead>\n",
       "  <tbody>\n",
       "    <tr>\n",
       "      <th>2010-06-16 01:00:00</th>\n",
       "      <td>9.867171</td>\n",
       "      <td>206.252030</td>\n",
       "      <td>12.528562</td>\n",
       "      <td>141.413627</td>\n",
       "      <td>16.229456</td>\n",
       "    </tr>\n",
       "    <tr>\n",
       "      <th>2010-07-06 01:00:00</th>\n",
       "      <td>10.932289</td>\n",
       "      <td>187.367884</td>\n",
       "      <td>13.271708</td>\n",
       "      <td>174.686889</td>\n",
       "      <td>15.140886</td>\n",
       "    </tr>\n",
       "    <tr>\n",
       "      <th>2010-07-26 01:00:00</th>\n",
       "      <td>8.824489</td>\n",
       "      <td>186.088640</td>\n",
       "      <td>10.719733</td>\n",
       "      <td>178.046187</td>\n",
       "      <td>12.987618</td>\n",
       "    </tr>\n",
       "    <tr>\n",
       "      <th>...</th>\n",
       "      <td>...</td>\n",
       "      <td>...</td>\n",
       "      <td>...</td>\n",
       "      <td>...</td>\n",
       "      <td>...</td>\n",
       "    </tr>\n",
       "    <tr>\n",
       "      <th>2015-03-02 01:00:00</th>\n",
       "      <td>2.333333</td>\n",
       "      <td>240.666667</td>\n",
       "      <td>4.666667</td>\n",
       "      <td>78.666667</td>\n",
       "      <td>17.333333</td>\n",
       "    </tr>\n",
       "    <tr>\n",
       "      <th>2015-03-22 01:00:00</th>\n",
       "      <td>NaN</td>\n",
       "      <td>NaN</td>\n",
       "      <td>NaN</td>\n",
       "      <td>NaN</td>\n",
       "      <td>NaN</td>\n",
       "    </tr>\n",
       "    <tr>\n",
       "      <th>2015-04-11 01:00:00</th>\n",
       "      <td>13.497645</td>\n",
       "      <td>229.993721</td>\n",
       "      <td>16.288854</td>\n",
       "      <td>142.574568</td>\n",
       "      <td>16.249608</td>\n",
       "    </tr>\n",
       "  </tbody>\n",
       "</table>\n",
       "<p>89 rows × 5 columns</p>\n",
       "</div>"
      ],
      "text/plain": [
       "                     windspeed     winddir   windgust  temperature   pressure\n",
       "datetime                                                                     \n",
       "2010-06-16 01:00:00   9.867171  206.252030  12.528562   141.413627  16.229456\n",
       "2010-07-06 01:00:00  10.932289  187.367884  13.271708   174.686889  15.140886\n",
       "2010-07-26 01:00:00   8.824489  186.088640  10.719733   178.046187  12.987618\n",
       "...                        ...         ...        ...          ...        ...\n",
       "2015-03-02 01:00:00   2.333333  240.666667   4.666667    78.666667  17.333333\n",
       "2015-03-22 01:00:00        NaN         NaN        NaN          NaN        NaN\n",
       "2015-04-11 01:00:00  13.497645  229.993721  16.288854   142.574568  16.249608\n",
       "\n",
       "[89 rows x 5 columns]"
      ]
     },
     "execution_count": 30,
     "metadata": {},
     "output_type": "execute_result"
    }
   ],
   "source": [
    "wind_resampled"
   ]
  },
  {
   "cell_type": "code",
   "execution_count": 31,
   "metadata": {
    "collapsed": false
   },
   "outputs": [
    {
     "data": {
      "text/html": [
       "<div>\n",
       "<table border=\"1\" class=\"dataframe\">\n",
       "  <thead>\n",
       "    <tr style=\"text-align: right;\">\n",
       "      <th></th>\n",
       "      <th>windspeed</th>\n",
       "      <th>winddir</th>\n",
       "      <th>windgust</th>\n",
       "      <th>temperature</th>\n",
       "      <th>pressure</th>\n",
       "    </tr>\n",
       "    <tr>\n",
       "      <th>datetime</th>\n",
       "      <th></th>\n",
       "      <th></th>\n",
       "      <th></th>\n",
       "      <th></th>\n",
       "      <th></th>\n",
       "    </tr>\n",
       "  </thead>\n",
       "  <tbody>\n",
       "    <tr>\n",
       "      <th>2010-06-16 01:00:00</th>\n",
       "      <td>9.867171</td>\n",
       "      <td>206.252030</td>\n",
       "      <td>12.528562</td>\n",
       "      <td>141.413627</td>\n",
       "      <td>16.229456</td>\n",
       "    </tr>\n",
       "    <tr>\n",
       "      <th>2010-07-06 01:00:00</th>\n",
       "      <td>10.932289</td>\n",
       "      <td>187.367884</td>\n",
       "      <td>13.271708</td>\n",
       "      <td>174.686889</td>\n",
       "      <td>15.140886</td>\n",
       "    </tr>\n",
       "    <tr>\n",
       "      <th>2010-07-26 01:00:00</th>\n",
       "      <td>8.824489</td>\n",
       "      <td>186.088640</td>\n",
       "      <td>10.719733</td>\n",
       "      <td>178.046187</td>\n",
       "      <td>12.987618</td>\n",
       "    </tr>\n",
       "    <tr>\n",
       "      <th>2010-08-15 01:00:00</th>\n",
       "      <td>9.112571</td>\n",
       "      <td>189.895532</td>\n",
       "      <td>11.324135</td>\n",
       "      <td>162.768944</td>\n",
       "      <td>12.309023</td>\n",
       "    </tr>\n",
       "    <tr>\n",
       "      <th>2010-09-24 01:00:00</th>\n",
       "      <td>7.416236</td>\n",
       "      <td>201.459552</td>\n",
       "      <td>10.095525</td>\n",
       "      <td>127.993976</td>\n",
       "      <td>16.790878</td>\n",
       "    </tr>\n",
       "  </tbody>\n",
       "</table>\n",
       "</div>"
      ],
      "text/plain": [
       "                     windspeed     winddir   windgust  temperature   pressure\n",
       "datetime                                                                     \n",
       "2010-06-16 01:00:00   9.867171  206.252030  12.528562   141.413627  16.229456\n",
       "2010-07-06 01:00:00  10.932289  187.367884  13.271708   174.686889  15.140886\n",
       "2010-07-26 01:00:00   8.824489  186.088640  10.719733   178.046187  12.987618\n",
       "2010-08-15 01:00:00   9.112571  189.895532  11.324135   162.768944  12.309023\n",
       "2010-09-24 01:00:00   7.416236  201.459552  10.095525   127.993976  16.790878"
      ]
     },
     "execution_count": 31,
     "metadata": {},
     "output_type": "execute_result"
    }
   ],
   "source": [
    "# Drop the NaN data points\n",
    "wind_resampled = wind_resampled.dropna()\n",
    "wind_resampled.head()"
   ]
  },
  {
   "cell_type": "code",
   "execution_count": 32,
   "metadata": {
    "collapsed": false
   },
   "outputs": [],
   "source": [
    "# Making variables for just windspeed and windgust\n",
    "speed = wind_resampled['windspeed']\n",
    "gust = wind_resampled['windgust']"
   ]
  },
  {
   "cell_type": "code",
   "execution_count": 34,
   "metadata": {
    "collapsed": false
   },
   "outputs": [
    {
     "data": {
      "text/plain": [
       "(0.9393665194511414, 0.0005879071541130543)"
      ]
     },
     "execution_count": 34,
     "metadata": {},
     "output_type": "execute_result"
    }
   ],
   "source": [
    "# p-value < 0.05, we can say data is not normal, so we can't do a t-test\n",
    "scipy.stats.shapiro(speed)"
   ]
  },
  {
   "cell_type": "code",
   "execution_count": 35,
   "metadata": {
    "collapsed": false
   },
   "outputs": [
    {
     "data": {
      "text/plain": [
       "(0.9574524164199829, 0.0068333568051457405)"
      ]
     },
     "execution_count": 35,
     "metadata": {},
     "output_type": "execute_result"
    }
   ],
   "source": [
    "# p-value < 0.05, we can say data is not normal, so we can't do a t-test\n",
    "scipy.stats.shapiro(gust)"
   ]
  },
  {
   "cell_type": "markdown",
   "metadata": {},
   "source": [
    "We can't do a t-test, so we'll do a kruskalwallis test."
   ]
  },
  {
   "cell_type": "code",
   "execution_count": 38,
   "metadata": {
    "collapsed": false
   },
   "outputs": [
    {
     "data": {
      "text/plain": [
       "(52.798079281247965, 3.6966257909208721e-13)"
      ]
     },
     "execution_count": 38,
     "metadata": {},
     "output_type": "execute_result"
    }
   ],
   "source": [
    "scipy.stats.mstats.kruskalwallis(speed,gust)"
   ]
  },
  {
   "cell_type": "markdown",
   "metadata": {},
   "source": [
    "The p-value from the Kruskal-Wallis test is < 0.05, so we can reject null hypothesis that the medians of the two groups are equal.  Therefore, the medians of the two groups are significantly different, and we can say that there is a statistical difference between the wind gust and the wind speed."
   ]
  },
  {
   "cell_type": "code",
   "execution_count": null,
   "metadata": {
    "collapsed": true
   },
   "outputs": [],
   "source": []
  }
 ],
 "metadata": {
  "kernelspec": {
   "display_name": "Python 3",
   "language": "python",
   "name": "python3"
  },
  "language_info": {
   "codemirror_mode": {
    "name": "ipython",
    "version": 3
   },
   "file_extension": ".py",
   "mimetype": "text/x-python",
   "name": "python",
   "nbconvert_exporter": "python",
   "pygments_lexer": "ipython3",
   "version": "3.4.3"
  }
 },
 "nbformat": 4,
 "nbformat_minor": 0
}
